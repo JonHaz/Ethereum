{
  "nbformat": 4,
  "nbformat_minor": 0,
  "metadata": {
    "colab": {
      "name": "Craft a Story from a Dataset",
      "provenance": [],
      "authorship_tag": "ABX9TyMKWN4piLLT7/AzoOupoUIi",
      "include_colab_link": true
    },
    "kernelspec": {
      "name": "python3",
      "display_name": "Python 3"
    },
    "language_info": {
      "name": "python"
    }
  },
  "cells": [
    {
      "cell_type": "markdown",
      "metadata": {
        "id": "view-in-github",
        "colab_type": "text"
      },
      "source": [
        "<a href=\"https://colab.research.google.com/github/JonHaz/Ethereum/blob/main/Craft_a_Story_from_a_Dataset.ipynb\" target=\"_parent\"><img src=\"https://colab.research.google.com/assets/colab-badge.svg\" alt=\"Open In Colab\"/></a>"
      ]
    },
    {
      "cell_type": "markdown",
      "metadata": {
        "id": "CK2pAvVOkn7-"
      },
      "source": [
        "Let's look at Ethereum Blck Data for the month of January"
      ]
    },
    {
      "cell_type": "code",
      "metadata": {
        "colab": {
          "base_uri": "https://localhost:8080/"
        },
        "id": "84WH26Dse4FT",
        "outputId": "22e18924-4dbb-4eb0-f66f-11205862b336"
      },
      "source": [
        "from google.colab import auth\n",
        "auth.authenticate_user()\n",
        "print('Authenticated')"
      ],
      "execution_count": 1,
      "outputs": [
        {
          "output_type": "stream",
          "text": [
            "Authenticated\n"
          ],
          "name": "stdout"
        }
      ]
    },
    {
      "cell_type": "code",
      "metadata": {
        "id": "LS0pL-uCe68y"
      },
      "source": [
        "# Save output in a variable `df`\n",
        "\n",
        "%%bigquery --project storied-sound-253213 df\n",
        "SELECT\n",
        "   timestamp, number, miner, difficulty, size, transaction_count,\n",
        "FROM `bigquery-public-data.crypto_ethereum.blocks` \n",
        "WHERE DATE(timestamp) BETWEEN \"2021-01-21\" AND \"2021-01-31\""
      ],
      "execution_count": 4,
      "outputs": []
    },
    {
      "cell_type": "code",
      "metadata": {
        "colab": {
          "base_uri": "https://localhost:8080/",
          "height": 206
        },
        "id": "73tfOqmsjZp1",
        "outputId": "973518d2-04d5-4fc3-ed63-11fd3f8b7e03"
      },
      "source": [
        "df.head()"
      ],
      "execution_count": 9,
      "outputs": [
        {
          "output_type": "execute_result",
          "data": {
            "text/html": [
              "<div>\n",
              "<style scoped>\n",
              "    .dataframe tbody tr th:only-of-type {\n",
              "        vertical-align: middle;\n",
              "    }\n",
              "\n",
              "    .dataframe tbody tr th {\n",
              "        vertical-align: top;\n",
              "    }\n",
              "\n",
              "    .dataframe thead th {\n",
              "        text-align: right;\n",
              "    }\n",
              "</style>\n",
              "<table border=\"1\" class=\"dataframe\">\n",
              "  <thead>\n",
              "    <tr style=\"text-align: right;\">\n",
              "      <th></th>\n",
              "      <th>timestamp</th>\n",
              "      <th>number</th>\n",
              "      <th>miner</th>\n",
              "      <th>difficulty</th>\n",
              "      <th>size</th>\n",
              "      <th>transaction_count</th>\n",
              "    </tr>\n",
              "  </thead>\n",
              "  <tbody>\n",
              "    <tr>\n",
              "      <th>0</th>\n",
              "      <td>2021-01-29 09:18:14+00:00</td>\n",
              "      <td>11749940</td>\n",
              "      <td>0xe9b54a47e3f401d37798fc4e22f14b78475c2afc</td>\n",
              "      <td>4419619822668506</td>\n",
              "      <td>58169</td>\n",
              "      <td>272</td>\n",
              "    </tr>\n",
              "    <tr>\n",
              "      <th>1</th>\n",
              "      <td>2021-01-29 08:36:10+00:00</td>\n",
              "      <td>11749764</td>\n",
              "      <td>0x2f731c3e8cd264371ffdb635d07c14a6303df52a</td>\n",
              "      <td>4463200856626051</td>\n",
              "      <td>33800</td>\n",
              "      <td>134</td>\n",
              "    </tr>\n",
              "    <tr>\n",
              "      <th>2</th>\n",
              "      <td>2021-01-29 09:21:28+00:00</td>\n",
              "      <td>11749956</td>\n",
              "      <td>0x2f731c3e8cd264371ffdb635d07c14a6303df52a</td>\n",
              "      <td>4423931118902302</td>\n",
              "      <td>59872</td>\n",
              "      <td>300</td>\n",
              "    </tr>\n",
              "    <tr>\n",
              "      <th>3</th>\n",
              "      <td>2021-01-29 02:09:01+00:00</td>\n",
              "      <td>11748026</td>\n",
              "      <td>0x2f731c3e8cd264371ffdb635d07c14a6303df52a</td>\n",
              "      <td>4519910012666365</td>\n",
              "      <td>50711</td>\n",
              "      <td>258</td>\n",
              "    </tr>\n",
              "    <tr>\n",
              "      <th>4</th>\n",
              "      <td>2021-01-29 15:25:20+00:00</td>\n",
              "      <td>11751570</td>\n",
              "      <td>0x2f731c3e8cd264371ffdb635d07c14a6303df52a</td>\n",
              "      <td>4342965767206927</td>\n",
              "      <td>55415</td>\n",
              "      <td>267</td>\n",
              "    </tr>\n",
              "  </tbody>\n",
              "</table>\n",
              "</div>"
            ],
            "text/plain": [
              "                  timestamp    number  ...   size transaction_count\n",
              "0 2021-01-29 09:18:14+00:00  11749940  ...  58169               272\n",
              "1 2021-01-29 08:36:10+00:00  11749764  ...  33800               134\n",
              "2 2021-01-29 09:21:28+00:00  11749956  ...  59872               300\n",
              "3 2021-01-29 02:09:01+00:00  11748026  ...  50711               258\n",
              "4 2021-01-29 15:25:20+00:00  11751570  ...  55415               267\n",
              "\n",
              "[5 rows x 6 columns]"
            ]
          },
          "metadata": {
            "tags": []
          },
          "execution_count": 9
        }
      ]
    },
    {
      "cell_type": "code",
      "metadata": {
        "colab": {
          "base_uri": "https://localhost:8080/"
        },
        "id": "7djHRggUjqGp",
        "outputId": "2dcf579e-e63a-49ac-a9cd-9a80a2b26853"
      },
      "source": [
        "df.info()"
      ],
      "execution_count": 11,
      "outputs": [
        {
          "output_type": "stream",
          "text": [
            "<class 'pandas.core.frame.DataFrame'>\n",
            "RangeIndex: 71465 entries, 0 to 71464\n",
            "Data columns (total 6 columns):\n",
            " #   Column             Non-Null Count  Dtype              \n",
            "---  ------             --------------  -----              \n",
            " 0   timestamp          71465 non-null  datetime64[ns, UTC]\n",
            " 1   number             71465 non-null  int64              \n",
            " 2   miner              71465 non-null  object             \n",
            " 3   difficulty         71465 non-null  object             \n",
            " 4   size               71465 non-null  int64              \n",
            " 5   transaction_count  71465 non-null  int64              \n",
            "dtypes: datetime64[ns, UTC](1), int64(3), object(2)\n",
            "memory usage: 3.3+ MB\n"
          ],
          "name": "stdout"
        }
      ]
    },
    {
      "cell_type": "markdown",
      "metadata": {
        "id": "fzyXVlGkmMUz"
      },
      "source": [
        "First let's analyze the columns 'size' and 'transaction_count'"
      ]
    },
    {
      "cell_type": "code",
      "metadata": {
        "colab": {
          "base_uri": "https://localhost:8080/",
          "height": 300
        },
        "id": "kgspfSmllF_v",
        "outputId": "e2beab6b-cc38-4001-c372-55099e1e539b"
      },
      "source": [
        "df[['size','transaction_count']].describe()"
      ],
      "execution_count": 17,
      "outputs": [
        {
          "output_type": "execute_result",
          "data": {
            "text/html": [
              "<div>\n",
              "<style scoped>\n",
              "    .dataframe tbody tr th:only-of-type {\n",
              "        vertical-align: middle;\n",
              "    }\n",
              "\n",
              "    .dataframe tbody tr th {\n",
              "        vertical-align: top;\n",
              "    }\n",
              "\n",
              "    .dataframe thead th {\n",
              "        text-align: right;\n",
              "    }\n",
              "</style>\n",
              "<table border=\"1\" class=\"dataframe\">\n",
              "  <thead>\n",
              "    <tr style=\"text-align: right;\">\n",
              "      <th></th>\n",
              "      <th>size</th>\n",
              "      <th>transaction_count</th>\n",
              "    </tr>\n",
              "  </thead>\n",
              "  <tbody>\n",
              "    <tr>\n",
              "      <th>count</th>\n",
              "      <td>71465.000000</td>\n",
              "      <td>71465.000000</td>\n",
              "    </tr>\n",
              "    <tr>\n",
              "      <th>mean</th>\n",
              "      <td>44250.298174</td>\n",
              "      <td>183.449157</td>\n",
              "    </tr>\n",
              "    <tr>\n",
              "      <th>std</th>\n",
              "      <td>11875.228608</td>\n",
              "      <td>63.321700</td>\n",
              "    </tr>\n",
              "    <tr>\n",
              "      <th>min</th>\n",
              "      <td>518.000000</td>\n",
              "      <td>0.000000</td>\n",
              "    </tr>\n",
              "    <tr>\n",
              "      <th>25%</th>\n",
              "      <td>38987.000000</td>\n",
              "      <td>148.000000</td>\n",
              "    </tr>\n",
              "    <tr>\n",
              "      <th>50%</th>\n",
              "      <td>44818.000000</td>\n",
              "      <td>181.000000</td>\n",
              "    </tr>\n",
              "    <tr>\n",
              "      <th>75%</th>\n",
              "      <td>50330.000000</td>\n",
              "      <td>215.000000</td>\n",
              "    </tr>\n",
              "    <tr>\n",
              "      <th>max</th>\n",
              "      <td>205974.000000</td>\n",
              "      <td>595.000000</td>\n",
              "    </tr>\n",
              "  </tbody>\n",
              "</table>\n",
              "</div>"
            ],
            "text/plain": [
              "                size  transaction_count\n",
              "count   71465.000000       71465.000000\n",
              "mean    44250.298174         183.449157\n",
              "std     11875.228608          63.321700\n",
              "min       518.000000           0.000000\n",
              "25%     38987.000000         148.000000\n",
              "50%     44818.000000         181.000000\n",
              "75%     50330.000000         215.000000\n",
              "max    205974.000000         595.000000"
            ]
          },
          "metadata": {
            "tags": []
          },
          "execution_count": 17
        }
      ]
    },
    {
      "cell_type": "code",
      "metadata": {
        "colab": {
          "base_uri": "https://localhost:8080/",
          "height": 333
        },
        "id": "6oZOQOdjkDIi",
        "outputId": "69dab7c8-93c3-4232-8a13-aa9d17e468d3"
      },
      "source": [
        "df[['size','transaction_count']].hist()"
      ],
      "execution_count": 16,
      "outputs": [
        {
          "output_type": "execute_result",
          "data": {
            "text/plain": [
              "array([[<matplotlib.axes._subplots.AxesSubplot object at 0x7f7d9b3f8310>,\n",
              "        <matplotlib.axes._subplots.AxesSubplot object at 0x7f7d9b3f6b50>]],\n",
              "      dtype=object)"
            ]
          },
          "metadata": {
            "tags": []
          },
          "execution_count": 16
        },
        {
          "output_type": "display_data",
          "data": {
            "image/png": "[encoded data removed]",
            "text/plain": [
              "<Figure size 432x288 with 2 Axes>"
            ]
          },
          "metadata": {
            "tags": [],
            "needs_background": "light"
          }
        }
      ]
    },
    {
      "cell_type": "code",
      "metadata": {
        "colab": {
          "base_uri": "https://localhost:8080/",
          "height": 112
        },
        "id": "5oFmR1kpkWCb",
        "outputId": "ff9faba7-da79-46b7-9e50-9f5d95430e3f"
      },
      "source": [
        "df[['size','transaction_count']].corr()"
      ],
      "execution_count": 18,
      "outputs": [
        {
          "output_type": "execute_result",
          "data": {
            "text/html": [
              "<div>\n",
              "<style scoped>\n",
              "    .dataframe tbody tr th:only-of-type {\n",
              "        vertical-align: middle;\n",
              "    }\n",
              "\n",
              "    .dataframe tbody tr th {\n",
              "        vertical-align: top;\n",
              "    }\n",
              "\n",
              "    .dataframe thead th {\n",
              "        text-align: right;\n",
              "    }\n",
              "</style>\n",
              "<table border=\"1\" class=\"dataframe\">\n",
              "  <thead>\n",
              "    <tr style=\"text-align: right;\">\n",
              "      <th></th>\n",
              "      <th>size</th>\n",
              "      <th>transaction_count</th>\n",
              "    </tr>\n",
              "  </thead>\n",
              "  <tbody>\n",
              "    <tr>\n",
              "      <th>size</th>\n",
              "      <td>1.000000</td>\n",
              "      <td>0.588667</td>\n",
              "    </tr>\n",
              "    <tr>\n",
              "      <th>transaction_count</th>\n",
              "      <td>0.588667</td>\n",
              "      <td>1.000000</td>\n",
              "    </tr>\n",
              "  </tbody>\n",
              "</table>\n",
              "</div>"
            ],
            "text/plain": [
              "                       size  transaction_count\n",
              "size               1.000000           0.588667\n",
              "transaction_count  0.588667           1.000000"
            ]
          },
          "metadata": {
            "tags": []
          },
          "execution_count": 18
        }
      ]
    },
    {
      "cell_type": "markdown",
      "metadata": {
        "id": "QnWKgafrmzKn"
      },
      "source": [
        "How many miners do we have during this period?"
      ]
    },
    {
      "cell_type": "code",
      "metadata": {
        "colab": {
          "base_uri": "https://localhost:8080/"
        },
        "id": "LVrEmkRDmx_U",
        "outputId": "a5e44a48-9487-4046-b042-5426941836c9"
      },
      "source": [
        "df['miner'].groupby(df['miner']).count().sort_values(ascending=False).count()"
      ],
      "execution_count": 26,
      "outputs": [
        {
          "output_type": "execute_result",
          "data": {
            "text/plain": [
              "91"
            ]
          },
          "metadata": {
            "tags": []
          },
          "execution_count": 26
        }
      ]
    },
    {
      "cell_type": "markdown",
      "metadata": {
        "id": "OKzPwpYhpPEx"
      },
      "source": [
        "The top 10% of Miners make up 82% of the the blocks during this month\n",
        "\n",
        "```\n",
        "# This is formatted as code\n",
        "```\n",
        "\n"
      ]
    },
    {
      "cell_type": "code",
      "metadata": {
        "colab": {
          "base_uri": "https://localhost:8080/"
        },
        "id": "qLtAGzG_ooXD",
        "outputId": "9f8f4831-4456-41d4-ca5b-1f5fe1ef598e"
      },
      "source": [
        "blocks = df['miner'].groupby(df['miner']).count().sort_values(ascending=False)\n",
        "\n",
        "top_9 = blocks.nlargest(9)\n",
        "top_9.sum()\n",
        "\n",
        "top_9.sum()/blocks.sum()"
      ],
      "execution_count": 39,
      "outputs": [
        {
          "output_type": "execute_result",
          "data": {
            "text/plain": [
              "0.8242076540964108"
            ]
          },
          "metadata": {
            "tags": []
          },
          "execution_count": 39
        }
      ]
    },
    {
      "cell_type": "markdown",
      "metadata": {
        "id": "i4q9KCKcoCPc"
      },
      "source": [
        "In terms of number of blocks what does that distribution look like?"
      ]
    },
    {
      "cell_type": "code",
      "metadata": {
        "colab": {
          "base_uri": "https://localhost:8080/",
          "height": 297
        },
        "id": "wm1Fbp3PoXtz",
        "outputId": "7e8ebc84-b207-46d5-aa3d-3262bb31c545"
      },
      "source": [
        "\n",
        "import seaborn as sns\n",
        "import matplotlib.pyplot as plt\n",
        "\n",
        "x=top_9.index\n",
        "y = top_9\n",
        "\n",
        "sns.barplot(x=x, y=y, data=blocks,\n",
        "            label=\"Total\", palette=\"Blues_d\")"
      ],
      "execution_count": 57,
      "outputs": [
        {
          "output_type": "execute_result",
          "data": {
            "text/plain": [
              "<matplotlib.axes._subplots.AxesSubplot at 0x7f7d997fa310>"
            ]
          },
          "metadata": {
            "tags": []
          },
          "execution_count": 57
        },
        {
          "output_type": "display_data",
          "data": {
            "image/png": "[encoded data removed]",
            "text/plain": [
              "<Figure size 432x288 with 1 Axes>"
            ]
          },
          "metadata": {
            "tags": [],
            "needs_background": "light"
          }
        }
      ]
    },
    {
      "cell_type": "code",
      "metadata": {
        "id": "rrApqpyypZgG"
      },
      "source": [
        ""
      ],
      "execution_count": 57,
      "outputs": []
    }
  ]
}