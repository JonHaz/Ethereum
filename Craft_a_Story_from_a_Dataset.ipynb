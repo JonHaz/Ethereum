{
  "nbformat": 4,
  "nbformat_minor": 0,
  "metadata": {
    "colab": {
      "name": "Craft a Story from a Dataset",
      "provenance": [],
      "authorship_tag": "ABX9TyO7htqYnYhBrstPh+Ui3PH2",
      "include_colab_link": true
    },
    "kernelspec": {
      "name": "python3",
      "display_name": "Python 3"
    },
    "language_info": {
      "name": "python"
    }
  },
  "cells": [
    {
      "cell_type": "markdown",
      "metadata": {
        "id": "view-in-github",
        "colab_type": "text"
      },
      "source": [
        "<a href=\"https://colab.research.google.com/github/JonHaz/Ethereum/blob/main/Craft_a_Story_from_a_Dataset.ipynb\" target=\"_parent\"><img src=\"https://colab.research.google.com/assets/colab-badge.svg\" alt=\"Open In Colab\"/></a>"
      ]
    },
    {
      "cell_type": "markdown",
      "metadata": {
        "id": "CK2pAvVOkn7-"
      },
      "source": [
        "Let's look at Ethereum Blck Data for the month of January"
      ]
    },
    {
      "cell_type": "code",
      "metadata": {
        "colab": {
          "base_uri": "https://localhost:8080/"
        },
        "id": "84WH26Dse4FT",
        "outputId": "19361e08-d370-45bb-c5e6-ff57f5b030dd"
      },
      "source": [
        "from google.colab import auth\n",
        "auth.authenticate_user()\n",
        "print('Authenticated')"
      ],
      "execution_count": 2,
      "outputs": [
        {
          "output_type": "stream",
          "text": [
            "Authenticated\n"
          ],
          "name": "stdout"
        }
      ]
    },
    {
      "cell_type": "code",
      "metadata": {
        "id": "LS0pL-uCe68y"
      },
      "source": [
        "# Save output in a variable `df`\n",
        "\n",
        "%%bigquery --project storied-sound-253213 df\n",
        "SELECT\n",
        "   timestamp, number, miner, difficulty, size, transaction_count, gas_limit, gas_used\n",
        "FROM `bigquery-public-data.crypto_ethereum.blocks` \n",
        "WHERE DATE(timestamp) BETWEEN \"2021-01-21\" AND \"2021-01-31\""
      ],
      "execution_count": 3,
      "outputs": []
    },
    {
      "cell_type": "code",
      "metadata": {
        "colab": {
          "base_uri": "https://localhost:8080/",
          "height": 206
        },
        "id": "73tfOqmsjZp1",
        "outputId": "ab4e7894-7cfa-46ca-83bc-198b81d68a78"
      },
      "source": [
        "df.head()"
      ],
      "execution_count": 4,
      "outputs": [
        {
          "output_type": "execute_result",
          "data": {
            "text/html": [
              "<div>\n",
              "<style scoped>\n",
              "    .dataframe tbody tr th:only-of-type {\n",
              "        vertical-align: middle;\n",
              "    }\n",
              "\n",
              "    .dataframe tbody tr th {\n",
              "        vertical-align: top;\n",
              "    }\n",
              "\n",
              "    .dataframe thead th {\n",
              "        text-align: right;\n",
              "    }\n",
              "</style>\n",
              "<table border=\"1\" class=\"dataframe\">\n",
              "  <thead>\n",
              "    <tr style=\"text-align: right;\">\n",
              "      <th></th>\n",
              "      <th>timestamp</th>\n",
              "      <th>number</th>\n",
              "      <th>miner</th>\n",
              "      <th>difficulty</th>\n",
              "      <th>size</th>\n",
              "      <th>transaction_count</th>\n",
              "      <th>gas_limit</th>\n",
              "      <th>gas_used</th>\n",
              "    </tr>\n",
              "  </thead>\n",
              "  <tbody>\n",
              "    <tr>\n",
              "      <th>0</th>\n",
              "      <td>2021-01-26 18:40:51+00:00</td>\n",
              "      <td>11733046</td>\n",
              "      <td>0xe9b54a47e3f401d37798fc4e22f14b78475c2afc</td>\n",
              "      <td>4555677847969696</td>\n",
              "      <td>30631</td>\n",
              "      <td>131</td>\n",
              "      <td>12463358</td>\n",
              "      <td>12312519</td>\n",
              "    </tr>\n",
              "    <tr>\n",
              "      <th>1</th>\n",
              "      <td>2021-01-26 19:00:37+00:00</td>\n",
              "      <td>11733125</td>\n",
              "      <td>0xe9b54a47e3f401d37798fc4e22f14b78475c2afc</td>\n",
              "      <td>4535597732214329</td>\n",
              "      <td>36646</td>\n",
              "      <td>137</td>\n",
              "      <td>12487720</td>\n",
              "      <td>12471475</td>\n",
              "    </tr>\n",
              "    <tr>\n",
              "      <th>2</th>\n",
              "      <td>2021-01-26 20:24:01+00:00</td>\n",
              "      <td>11733495</td>\n",
              "      <td>0xe9b54a47e3f401d37798fc4e22f14b78475c2afc</td>\n",
              "      <td>4539628804709390</td>\n",
              "      <td>54477</td>\n",
              "      <td>228</td>\n",
              "      <td>12506007</td>\n",
              "      <td>12465657</td>\n",
              "    </tr>\n",
              "    <tr>\n",
              "      <th>3</th>\n",
              "      <td>2021-01-26 07:43:29+00:00</td>\n",
              "      <td>11730032</td>\n",
              "      <td>0xe9b54a47e3f401d37798fc4e22f14b78475c2afc</td>\n",
              "      <td>4347916424230509</td>\n",
              "      <td>36333</td>\n",
              "      <td>111</td>\n",
              "      <td>12487794</td>\n",
              "      <td>12486637</td>\n",
              "    </tr>\n",
              "    <tr>\n",
              "      <th>4</th>\n",
              "      <td>2021-01-26 18:22:20+00:00</td>\n",
              "      <td>11732966</td>\n",
              "      <td>0xe9b54a47e3f401d37798fc4e22f14b78475c2afc</td>\n",
              "      <td>4564645896202664</td>\n",
              "      <td>37055</td>\n",
              "      <td>100</td>\n",
              "      <td>12457262</td>\n",
              "      <td>12450206</td>\n",
              "    </tr>\n",
              "  </tbody>\n",
              "</table>\n",
              "</div>"
            ],
            "text/plain": [
              "                  timestamp    number  ... gas_limit  gas_used\n",
              "0 2021-01-26 18:40:51+00:00  11733046  ...  12463358  12312519\n",
              "1 2021-01-26 19:00:37+00:00  11733125  ...  12487720  12471475\n",
              "2 2021-01-26 20:24:01+00:00  11733495  ...  12506007  12465657\n",
              "3 2021-01-26 07:43:29+00:00  11730032  ...  12487794  12486637\n",
              "4 2021-01-26 18:22:20+00:00  11732966  ...  12457262  12450206\n",
              "\n",
              "[5 rows x 8 columns]"
            ]
          },
          "metadata": {
            "tags": []
          },
          "execution_count": 4
        }
      ]
    },
    {
      "cell_type": "code",
      "metadata": {
        "colab": {
          "base_uri": "https://localhost:8080/"
        },
        "id": "7djHRggUjqGp",
        "outputId": "d771517c-4631-488d-803a-4e4d0212180a"
      },
      "source": [
        "df.info()"
      ],
      "execution_count": 5,
      "outputs": [
        {
          "output_type": "stream",
          "text": [
            "<class 'pandas.core.frame.DataFrame'>\n",
            "RangeIndex: 71465 entries, 0 to 71464\n",
            "Data columns (total 8 columns):\n",
            " #   Column             Non-Null Count  Dtype              \n",
            "---  ------             --------------  -----              \n",
            " 0   timestamp          71465 non-null  datetime64[ns, UTC]\n",
            " 1   number             71465 non-null  int64              \n",
            " 2   miner              71465 non-null  object             \n",
            " 3   difficulty         71465 non-null  object             \n",
            " 4   size               71465 non-null  int64              \n",
            " 5   transaction_count  71465 non-null  int64              \n",
            " 6   gas_limit          71465 non-null  int64              \n",
            " 7   gas_used           71465 non-null  int64              \n",
            "dtypes: datetime64[ns, UTC](1), int64(5), object(2)\n",
            "memory usage: 4.4+ MB\n"
          ],
          "name": "stdout"
        }
      ]
    },
    {
      "cell_type": "markdown",
      "metadata": {
        "id": "fzyXVlGkmMUz"
      },
      "source": [
        "First let's analyze the columns 'size' and 'transaction_count'"
      ]
    },
    {
      "cell_type": "code",
      "metadata": {
        "colab": {
          "base_uri": "https://localhost:8080/",
          "height": 300
        },
        "id": "kgspfSmllF_v",
        "outputId": "bb86f627-3199-40f8-fbce-8cbb8a38699a"
      },
      "source": [
        "df[['size','transaction_count']].describe()"
      ],
      "execution_count": 6,
      "outputs": [
        {
          "output_type": "execute_result",
          "data": {
            "text/html": [
              "<div>\n",
              "<style scoped>\n",
              "    .dataframe tbody tr th:only-of-type {\n",
              "        vertical-align: middle;\n",
              "    }\n",
              "\n",
              "    .dataframe tbody tr th {\n",
              "        vertical-align: top;\n",
              "    }\n",
              "\n",
              "    .dataframe thead th {\n",
              "        text-align: right;\n",
              "    }\n",
              "</style>\n",
              "<table border=\"1\" class=\"dataframe\">\n",
              "  <thead>\n",
              "    <tr style=\"text-align: right;\">\n",
              "      <th></th>\n",
              "      <th>size</th>\n",
              "      <th>transaction_count</th>\n",
              "    </tr>\n",
              "  </thead>\n",
              "  <tbody>\n",
              "    <tr>\n",
              "      <th>count</th>\n",
              "      <td>71465.000000</td>\n",
              "      <td>71465.000000</td>\n",
              "    </tr>\n",
              "    <tr>\n",
              "      <th>mean</th>\n",
              "      <td>44250.298174</td>\n",
              "      <td>183.449157</td>\n",
              "    </tr>\n",
              "    <tr>\n",
              "      <th>std</th>\n",
              "      <td>11875.228608</td>\n",
              "      <td>63.321700</td>\n",
              "    </tr>\n",
              "    <tr>\n",
              "      <th>min</th>\n",
              "      <td>518.000000</td>\n",
              "      <td>0.000000</td>\n",
              "    </tr>\n",
              "    <tr>\n",
              "      <th>25%</th>\n",
              "      <td>38987.000000</td>\n",
              "      <td>148.000000</td>\n",
              "    </tr>\n",
              "    <tr>\n",
              "      <th>50%</th>\n",
              "      <td>44818.000000</td>\n",
              "      <td>181.000000</td>\n",
              "    </tr>\n",
              "    <tr>\n",
              "      <th>75%</th>\n",
              "      <td>50330.000000</td>\n",
              "      <td>215.000000</td>\n",
              "    </tr>\n",
              "    <tr>\n",
              "      <th>max</th>\n",
              "      <td>205974.000000</td>\n",
              "      <td>595.000000</td>\n",
              "    </tr>\n",
              "  </tbody>\n",
              "</table>\n",
              "</div>"
            ],
            "text/plain": [
              "                size  transaction_count\n",
              "count   71465.000000       71465.000000\n",
              "mean    44250.298174         183.449157\n",
              "std     11875.228608          63.321700\n",
              "min       518.000000           0.000000\n",
              "25%     38987.000000         148.000000\n",
              "50%     44818.000000         181.000000\n",
              "75%     50330.000000         215.000000\n",
              "max    205974.000000         595.000000"
            ]
          },
          "metadata": {
            "tags": []
          },
          "execution_count": 6
        }
      ]
    },
    {
      "cell_type": "code",
      "metadata": {
        "colab": {
          "base_uri": "https://localhost:8080/",
          "height": 333
        },
        "id": "6oZOQOdjkDIi",
        "outputId": "56b60c98-a1a2-474a-c576-d7c69e05b696"
      },
      "source": [
        "df[['size','transaction_count']].hist()"
      ],
      "execution_count": 7,
      "outputs": [
        {
          "output_type": "execute_result",
          "data": {
            "text/plain": [
              "array([[<matplotlib.axes._subplots.AxesSubplot object at 0x7f5abcb3d8d0>,\n",
              "        <matplotlib.axes._subplots.AxesSubplot object at 0x7f5ab7c40750>]],\n",
              "      dtype=object)"
            ]
          },
          "metadata": {
            "tags": []
          },
          "execution_count": 7
        },
        {
          "output_type": "display_data",
          "data": {
            "image/png": "[encoded data removed]",
            "text/plain": [
              "<Figure size 432x288 with 2 Axes>"
            ]
          },
          "metadata": {
            "tags": [],
            "needs_background": "light"
          }
        }
      ]
    },
    {
      "cell_type": "code",
      "metadata": {
        "colab": {
          "base_uri": "https://localhost:8080/",
          "height": 112
        },
        "id": "5oFmR1kpkWCb",
        "outputId": "7da4aab3-8f09-4b6f-b1ce-9a2ff1c0c292"
      },
      "source": [
        "df[['size','transaction_count']].corr()"
      ],
      "execution_count": 8,
      "outputs": [
        {
          "output_type": "execute_result",
          "data": {
            "text/html": [
              "<div>\n",
              "<style scoped>\n",
              "    .dataframe tbody tr th:only-of-type {\n",
              "        vertical-align: middle;\n",
              "    }\n",
              "\n",
              "    .dataframe tbody tr th {\n",
              "        vertical-align: top;\n",
              "    }\n",
              "\n",
              "    .dataframe thead th {\n",
              "        text-align: right;\n",
              "    }\n",
              "</style>\n",
              "<table border=\"1\" class=\"dataframe\">\n",
              "  <thead>\n",
              "    <tr style=\"text-align: right;\">\n",
              "      <th></th>\n",
              "      <th>size</th>\n",
              "      <th>transaction_count</th>\n",
              "    </tr>\n",
              "  </thead>\n",
              "  <tbody>\n",
              "    <tr>\n",
              "      <th>size</th>\n",
              "      <td>1.000000</td>\n",
              "      <td>0.588667</td>\n",
              "    </tr>\n",
              "    <tr>\n",
              "      <th>transaction_count</th>\n",
              "      <td>0.588667</td>\n",
              "      <td>1.000000</td>\n",
              "    </tr>\n",
              "  </tbody>\n",
              "</table>\n",
              "</div>"
            ],
            "text/plain": [
              "                       size  transaction_count\n",
              "size               1.000000           0.588667\n",
              "transaction_count  0.588667           1.000000"
            ]
          },
          "metadata": {
            "tags": []
          },
          "execution_count": 8
        }
      ]
    },
    {
      "cell_type": "markdown",
      "metadata": {
        "id": "QnWKgafrmzKn"
      },
      "source": [
        "How many miners do we have during this period?"
      ]
    },
    {
      "cell_type": "code",
      "metadata": {
        "colab": {
          "base_uri": "https://localhost:8080/"
        },
        "id": "LVrEmkRDmx_U",
        "outputId": "dff64bba-8442-4886-ad45-000068ed326b"
      },
      "source": [
        "df['miner'].groupby(df['miner']).count().sort_values(ascending=False).count()"
      ],
      "execution_count": 9,
      "outputs": [
        {
          "output_type": "execute_result",
          "data": {
            "text/plain": [
              "91"
            ]
          },
          "metadata": {
            "tags": []
          },
          "execution_count": 9
        }
      ]
    },
    {
      "cell_type": "markdown",
      "metadata": {
        "id": "OKzPwpYhpPEx"
      },
      "source": [
        "The top 10% of Miners make up 82% of the the blocks during this month\n",
        "\n",
        "```\n",
        "# This is formatted as code\n",
        "```\n",
        "\n"
      ]
    },
    {
      "cell_type": "code",
      "metadata": {
        "colab": {
          "base_uri": "https://localhost:8080/"
        },
        "id": "qLtAGzG_ooXD",
        "outputId": "dbd44fe5-f3f1-4fb8-e901-2cea82b9568b"
      },
      "source": [
        "blocks = df['miner'].groupby(df['miner']).count().sort_values(ascending=False)\n",
        "\n",
        "top_9 = blocks.nlargest(9)\n",
        "top_9.sum()\n",
        "\n",
        "top_9.sum()/blocks.sum()"
      ],
      "execution_count": 10,
      "outputs": [
        {
          "output_type": "execute_result",
          "data": {
            "text/plain": [
              "0.8242076540964108"
            ]
          },
          "metadata": {
            "tags": []
          },
          "execution_count": 10
        }
      ]
    },
    {
      "cell_type": "markdown",
      "metadata": {
        "id": "i4q9KCKcoCPc"
      },
      "source": [
        "In terms of number of blocks what does that distribution look like?"
      ]
    },
    {
      "cell_type": "code",
      "metadata": {
        "colab": {
          "base_uri": "https://localhost:8080/",
          "height": 297
        },
        "id": "wm1Fbp3PoXtz",
        "outputId": "63984a18-1c31-4d69-d7b9-8c5853c2fb50"
      },
      "source": [
        "\n",
        "import seaborn as sns\n",
        "import matplotlib.pyplot as plt\n",
        "\n",
        "x=top_9.index\n",
        "y = top_9\n",
        "\n",
        "sns.barplot(x=x, y=y, data=blocks,\n",
        "            label=\"Total\", palette=\"Blues_d\")"
      ],
      "execution_count": 11,
      "outputs": [
        {
          "output_type": "execute_result",
          "data": {
            "text/plain": [
              "<matplotlib.axes._subplots.AxesSubplot at 0x7f5ab81d3f50>"
            ]
          },
          "metadata": {
            "tags": []
          },
          "execution_count": 11
        },
        {
          "output_type": "display_data",
          "data": {
            "image/png": "[encoded data removed]",
            "text/plain": [
              "<Figure size 432x288 with 1 Axes>"
            ]
          },
          "metadata": {
            "tags": [],
            "needs_background": "light"
          }
        }
      ]
    },
    {
      "cell_type": "markdown",
      "metadata": {
        "id": "Tid1jSLNzIJt"
      },
      "source": [
        "What percentage of blocks don't go through because the gas limit was too low"
      ]
    },
    {
      "cell_type": "code",
      "metadata": {
        "colab": {
          "base_uri": "https://localhost:8080/",
          "height": 206
        },
        "id": "rrApqpyypZgG",
        "outputId": "06aa414a-eb46-4e1b-db55-412bb629119c"
      },
      "source": [
        "gas = df.loc[:,['miner','gas_limit','gas_used']]\n",
        "\n",
        "#gas.count(gas['gas_limit'] == gas['gas_used'])\n",
        "gas['gas_left'] = (gas['gas_limit'] - gas['gas_used'])\n",
        "gas.head()"
      ],
      "execution_count": 26,
      "outputs": [
        {
          "output_type": "execute_result",
          "data": {
            "text/html": [
              "<div>\n",
              "<style scoped>\n",
              "    .dataframe tbody tr th:only-of-type {\n",
              "        vertical-align: middle;\n",
              "    }\n",
              "\n",
              "    .dataframe tbody tr th {\n",
              "        vertical-align: top;\n",
              "    }\n",
              "\n",
              "    .dataframe thead th {\n",
              "        text-align: right;\n",
              "    }\n",
              "</style>\n",
              "<table border=\"1\" class=\"dataframe\">\n",
              "  <thead>\n",
              "    <tr style=\"text-align: right;\">\n",
              "      <th></th>\n",
              "      <th>miner</th>\n",
              "      <th>gas_limit</th>\n",
              "      <th>gas_used</th>\n",
              "      <th>gas_left</th>\n",
              "    </tr>\n",
              "  </thead>\n",
              "  <tbody>\n",
              "    <tr>\n",
              "      <th>0</th>\n",
              "      <td>0xe9b54a47e3f401d37798fc4e22f14b78475c2afc</td>\n",
              "      <td>12463358</td>\n",
              "      <td>12312519</td>\n",
              "      <td>150839</td>\n",
              "    </tr>\n",
              "    <tr>\n",
              "      <th>1</th>\n",
              "      <td>0xe9b54a47e3f401d37798fc4e22f14b78475c2afc</td>\n",
              "      <td>12487720</td>\n",
              "      <td>12471475</td>\n",
              "      <td>16245</td>\n",
              "    </tr>\n",
              "    <tr>\n",
              "      <th>2</th>\n",
              "      <td>0xe9b54a47e3f401d37798fc4e22f14b78475c2afc</td>\n",
              "      <td>12506007</td>\n",
              "      <td>12465657</td>\n",
              "      <td>40350</td>\n",
              "    </tr>\n",
              "    <tr>\n",
              "      <th>3</th>\n",
              "      <td>0xe9b54a47e3f401d37798fc4e22f14b78475c2afc</td>\n",
              "      <td>12487794</td>\n",
              "      <td>12486637</td>\n",
              "      <td>1157</td>\n",
              "    </tr>\n",
              "    <tr>\n",
              "      <th>4</th>\n",
              "      <td>0xe9b54a47e3f401d37798fc4e22f14b78475c2afc</td>\n",
              "      <td>12457262</td>\n",
              "      <td>12450206</td>\n",
              "      <td>7056</td>\n",
              "    </tr>\n",
              "  </tbody>\n",
              "</table>\n",
              "</div>"
            ],
            "text/plain": [
              "                                        miner  gas_limit  gas_used  gas_left\n",
              "0  0xe9b54a47e3f401d37798fc4e22f14b78475c2afc   12463358  12312519    150839\n",
              "1  0xe9b54a47e3f401d37798fc4e22f14b78475c2afc   12487720  12471475     16245\n",
              "2  0xe9b54a47e3f401d37798fc4e22f14b78475c2afc   12506007  12465657     40350\n",
              "3  0xe9b54a47e3f401d37798fc4e22f14b78475c2afc   12487794  12486637      1157\n",
              "4  0xe9b54a47e3f401d37798fc4e22f14b78475c2afc   12457262  12450206      7056"
            ]
          },
          "metadata": {
            "tags": []
          },
          "execution_count": 26
        }
      ]
    },
    {
      "cell_type": "code",
      "metadata": {
        "colab": {
          "base_uri": "https://localhost:8080/",
          "height": 381
        },
        "id": "HXMdrZZY39or",
        "outputId": "bae82f05-3118-4051-87a6-5bcdba56b690"
      },
      "source": [
        "gas.hist()"
      ],
      "execution_count": 27,
      "outputs": [
        {
          "output_type": "execute_result",
          "data": {
            "text/plain": [
              "array([[<matplotlib.axes._subplots.AxesSubplot object at 0x7f5ab7a0a250>,\n",
              "        <matplotlib.axes._subplots.AxesSubplot object at 0x7f5ab7ec95d0>],\n",
              "       [<matplotlib.axes._subplots.AxesSubplot object at 0x7f5ab7b10910>,\n",
              "        <matplotlib.axes._subplots.AxesSubplot object at 0x7f5ab7a07290>]],\n",
              "      dtype=object)"
            ]
          },
          "metadata": {
            "tags": []
          },
          "execution_count": 27
        },
        {
          "output_type": "display_data",
          "data": {
            "image/png": "[encoded data removed]",
            "text/plain": [
              "<Figure size 432x288 with 4 Axes>"
            ]
          },
          "metadata": {
            "tags": [],
            "needs_background": "light"
          }
        }
      ]
    },
    {
      "cell_type": "code",
      "metadata": {
        "colab": {
          "base_uri": "https://localhost:8080/"
        },
        "id": "ZZhLfa5BUeES",
        "outputId": "cacde7ed-b7a8-44f3-c380-2f3e66f7c557"
      },
      "source": [
        "#There are a lot of blocks that don't use any gas\n",
        "gas.sort_values(by='gas_used', ascending=True)\n",
        "gas[gas['gas_used']==0].count()"
      ],
      "execution_count": 29,
      "outputs": [
        {
          "output_type": "execute_result",
          "data": {
            "text/plain": [
              "miner        1441\n",
              "gas_limit    1441\n",
              "gas_used     1441\n",
              "gas_left     1441\n",
              "dtype: int64"
            ]
          },
          "metadata": {
            "tags": []
          },
          "execution_count": 29
        }
      ]
    },
    {
      "cell_type": "markdown",
      "metadata": {
        "id": "54BgSUMvXnRt"
      },
      "source": [
        "How much ETH was awareded to the top 9 miners?"
      ]
    },
    {
      "cell_type": "code",
      "metadata": {
        "colab": {
          "base_uri": "https://localhost:8080/"
        },
        "id": "u_ieR73TXuBM",
        "outputId": "d55d0b55-856f-4356-d094-bf249d06799c"
      },
      "source": [
        "# add the top 9 miners to a list\n",
        "miners = list(top_9.index)\n",
        "miners"
      ],
      "execution_count": 33,
      "outputs": [
        {
          "output_type": "execute_result",
          "data": {
            "text/plain": [
              "['0x5a0b54d5dc17e0aadc383d2db43b0a0d3e029c4c',\n",
              " '0xea674fdde714fd979de3edf0f56aa9716b898ec8',\n",
              " '0x829bd824b016326a401d083b33d092293333a830',\n",
              " '0x04668ec2f57cc15c381b461b9fedab5d451c8f7f',\n",
              " '0x52bc44d5378309ee2abf1539bf71de1b7d7be3b5',\n",
              " '0xb3b7874f13387d44a3398d298b075b7a3505d8d4',\n",
              " '0x1ad91ee08f21be3de0ba2ba6918e714da6b45836',\n",
              " '0xd224ca0c819e8e97ba0136b3b95ceff503b79f53',\n",
              " '0x3ecef08d0e2dad803847e052249bb4f8bff2d5bb']"
            ]
          },
          "metadata": {
            "tags": []
          },
          "execution_count": 33
        }
      ]
    },
    {
      "cell_type": "code",
      "metadata": {
        "id": "S4rpQMYKYxpD"
      },
      "source": [
        "#creating a new column to calculate ethereum awarded \n",
        "gas['eth_awarded'] = gas['gas_used'] * 200 * 0.000000001"
      ],
      "execution_count": 54,
      "outputs": []
    },
    {
      "cell_type": "code",
      "metadata": {
        "colab": {
          "base_uri": "https://localhost:8080/",
          "height": 707
        },
        "id": "mj5Sk7r6cADz",
        "outputId": "7b79dc96-68fb-45eb-f805-3d35b40b05e7"
      },
      "source": [
        "#filtering by top 9 miners\n",
        "top_gas =gas[gas['miner'].isin(miners)]\n",
        "\n",
        "#creating series to display revenues for top miners\n",
        "top_eth = top_gas[['miner','eth_awarded']].groupby(top_gas['miner']).sum()\n",
        "top_eth['miner'] = top_eth.index\n",
        "top_eth.info()\n",
        "plt.xticks(rotation=90)\n",
        "sns.barplot(x='miner',y=\"eth_awarded\", data=top_eth)"
      ],
      "execution_count": 66,
      "outputs": [
        {
          "output_type": "stream",
          "text": [
            "<class 'pandas.core.frame.DataFrame'>\n",
            "Index: 9 entries, 0x04668ec2f57cc15c381b461b9fedab5d451c8f7f to 0xea674fdde714fd979de3edf0f56aa9716b898ec8\n",
            "Data columns (total 2 columns):\n",
            " #   Column       Non-Null Count  Dtype  \n",
            "---  ------       --------------  -----  \n",
            " 0   eth_awarded  9 non-null      float64\n",
            " 1   miner        9 non-null      object \n",
            "dtypes: float64(1), object(1)\n",
            "memory usage: 216.0+ bytes\n"
          ],
          "name": "stdout"
        },
        {
          "output_type": "execute_result",
          "data": {
            "text/plain": [
              "<matplotlib.axes._subplots.AxesSubplot at 0x7f5ab724d410>"
            ]
          },
          "metadata": {
            "tags": []
          },
          "execution_count": 66
        },
        {
          "output_type": "display_data",
          "data": {
            "image/png": "[encoded data removed]",
            "text/plain": [
              "<Figure size 432x288 with 1 Axes>"
            ]
          },
          "metadata": {
            "tags": [],
            "needs_background": "light"
          }
        }
      ]
    },
    {
      "cell_type": "code",
      "metadata": {
        "colab": {
          "base_uri": "https://localhost:8080/",
          "height": 206
        },
        "id": "IQmVaAvfhV9v",
        "outputId": "df743e1c-6ec3-4f2b-cdb3-51fc285fc7b7"
      },
      "source": [
        ""
      ],
      "execution_count": 56,
      "outputs": [
        {
          "output_type": "execute_result",
          "data": {
            "text/html": [
              "<div>\n",
              "<style scoped>\n",
              "    .dataframe tbody tr th:only-of-type {\n",
              "        vertical-align: middle;\n",
              "    }\n",
              "\n",
              "    .dataframe tbody tr th {\n",
              "        vertical-align: top;\n",
              "    }\n",
              "\n",
              "    .dataframe thead th {\n",
              "        text-align: right;\n",
              "    }\n",
              "</style>\n",
              "<table border=\"1\" class=\"dataframe\">\n",
              "  <thead>\n",
              "    <tr style=\"text-align: right;\">\n",
              "      <th></th>\n",
              "      <th>miner</th>\n",
              "      <th>gas_limit</th>\n",
              "      <th>gas_used</th>\n",
              "      <th>gas_left</th>\n",
              "      <th>eth_awared</th>\n",
              "      <th>eth_awarded</th>\n",
              "    </tr>\n",
              "  </thead>\n",
              "  <tbody>\n",
              "    <tr>\n",
              "      <th>0</th>\n",
              "      <td>0xe9b54a47e3f401d37798fc4e22f14b78475c2afc</td>\n",
              "      <td>12463358</td>\n",
              "      <td>12312519</td>\n",
              "      <td>150839</td>\n",
              "      <td>2.462504</td>\n",
              "      <td>2.462504</td>\n",
              "    </tr>\n",
              "    <tr>\n",
              "      <th>1</th>\n",
              "      <td>0xe9b54a47e3f401d37798fc4e22f14b78475c2afc</td>\n",
              "      <td>12487720</td>\n",
              "      <td>12471475</td>\n",
              "      <td>16245</td>\n",
              "      <td>2.494295</td>\n",
              "      <td>2.494295</td>\n",
              "    </tr>\n",
              "    <tr>\n",
              "      <th>2</th>\n",
              "      <td>0xe9b54a47e3f401d37798fc4e22f14b78475c2afc</td>\n",
              "      <td>12506007</td>\n",
              "      <td>12465657</td>\n",
              "      <td>40350</td>\n",
              "      <td>2.493131</td>\n",
              "      <td>2.493131</td>\n",
              "    </tr>\n",
              "    <tr>\n",
              "      <th>3</th>\n",
              "      <td>0xe9b54a47e3f401d37798fc4e22f14b78475c2afc</td>\n",
              "      <td>12487794</td>\n",
              "      <td>12486637</td>\n",
              "      <td>1157</td>\n",
              "      <td>2.497327</td>\n",
              "      <td>2.497327</td>\n",
              "    </tr>\n",
              "    <tr>\n",
              "      <th>4</th>\n",
              "      <td>0xe9b54a47e3f401d37798fc4e22f14b78475c2afc</td>\n",
              "      <td>12457262</td>\n",
              "      <td>12450206</td>\n",
              "      <td>7056</td>\n",
              "      <td>2.490041</td>\n",
              "      <td>2.490041</td>\n",
              "    </tr>\n",
              "  </tbody>\n",
              "</table>\n",
              "</div>"
            ],
            "text/plain": [
              "                                        miner  ...  eth_awarded\n",
              "0  0xe9b54a47e3f401d37798fc4e22f14b78475c2afc  ...     2.462504\n",
              "1  0xe9b54a47e3f401d37798fc4e22f14b78475c2afc  ...     2.494295\n",
              "2  0xe9b54a47e3f401d37798fc4e22f14b78475c2afc  ...     2.493131\n",
              "3  0xe9b54a47e3f401d37798fc4e22f14b78475c2afc  ...     2.497327\n",
              "4  0xe9b54a47e3f401d37798fc4e22f14b78475c2afc  ...     2.490041\n",
              "\n",
              "[5 rows x 6 columns]"
            ]
          },
          "metadata": {
            "tags": []
          },
          "execution_count": 56
        }
      ]
    }
  ]
}